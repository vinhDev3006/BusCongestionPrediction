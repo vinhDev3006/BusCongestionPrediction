{
 "cells": [
  {
   "cell_type": "code",
   "execution_count": 71,
   "id": "1d6fc78c",
   "metadata": {},
   "outputs": [],
   "source": [
    "import numpy as np\n",
    "import pandas as pd\n",
    "import tensorflow as tf\n",
    "from tensorflow import keras\n",
    "from sklearn.preprocessing import StandardScaler\n",
    "from sklearn.model_selection import train_test_split"
   ]
  },
  {
   "cell_type": "code",
   "execution_count": 72,
   "id": "edf5bc78",
   "metadata": {},
   "outputs": [],
   "source": [
    "df = pd.read_csv(\"first_bus_dir_1.csv\")"
   ]
  },
  {
   "cell_type": "code",
   "execution_count": 73,
   "id": "413ddaeb",
   "metadata": {},
   "outputs": [],
   "source": [
    "import random\n",
    "\n",
    "df['decisive_speed'] = df.apply(lambda row, weight =  random.uniform(0.8, 0.9):(row['speed_kmh'] * weight + row['segment_max_speed_kmh'] * (1 - weight)), axis=1)"
   ]
  },
  {
   "cell_type": "code",
   "execution_count": 74,
   "id": "cd20ec1b",
   "metadata": {},
   "outputs": [
    {
     "name": "stderr",
     "output_type": "stream",
     "text": [
      "C:\\Users\\vinhn\\AppData\\Local\\Temp\\ipykernel_22508\\1848422047.py:11: FutureWarning: The pandas.np module is deprecated and will be removed from pandas in a future version. Import numpy directly instead.\n",
      "  df['congestion_level'] = pd.np.select(conditions, congestion_levels, default=4)\n"
     ]
    }
   ],
   "source": [
    "conditions = [\n",
    "    (df['decisive_speed'] > 40),\n",
    "    (df['decisive_speed'] > 30),\n",
    "    (df['decisive_speed'] > 20),\n",
    "    (df['decisive_speed'] > 15)\n",
    "]\n",
    "\n",
    "congestion_levels = [0, 1, 2, 3]\n",
    "\n",
    "# Use np.select to create the new 'congestion_level' column\n",
    "df['congestion_level'] = pd.np.select(conditions, congestion_levels, default=4)"
   ]
  },
  {
   "cell_type": "code",
   "execution_count": 75,
   "id": "95306399",
   "metadata": {},
   "outputs": [],
   "source": [
    "df['arrival_time'] = pd.to_datetime(df['arrival_time'])"
   ]
  },
  {
   "cell_type": "code",
   "execution_count": 76,
   "id": "de1c4d6d",
   "metadata": {},
   "outputs": [
    {
     "name": "stdout",
     "output_type": "stream",
     "text": [
      "<class 'pandas.core.frame.DataFrame'>\n",
      "RangeIndex: 43 entries, 0 to 42\n",
      "Data columns (total 14 columns):\n",
      " #   Column                 Non-Null Count  Dtype         \n",
      "---  ------                 --------------  -----         \n",
      " 0   trip_id                43 non-null     object        \n",
      " 1   start_stop_id          43 non-null     int64         \n",
      " 2   arrival_time           43 non-null     datetime64[ns]\n",
      " 3   stop_sequence_x        43 non-null     int64         \n",
      " 4   stop_lat               43 non-null     float64       \n",
      " 5   stop_lon               43 non-null     float64       \n",
      " 6   route_id               43 non-null     int64         \n",
      " 7   direction_id           43 non-null     int64         \n",
      " 8   speed_kmh              43 non-null     float64       \n",
      " 9   segment_max_speed_kmh  43 non-null     int64         \n",
      " 10  runtime_sec            43 non-null     int64         \n",
      " 11  end_stop_id            43 non-null     int64         \n",
      " 12  decisive_speed         43 non-null     float64       \n",
      " 13  congestion_level       43 non-null     int32         \n",
      "dtypes: datetime64[ns](1), float64(4), int32(1), int64(7), object(1)\n",
      "memory usage: 4.7+ KB\n"
     ]
    }
   ],
   "source": [
    "df.info()"
   ]
  },
  {
   "cell_type": "code",
   "execution_count": 81,
   "id": "c5a527e2",
   "metadata": {
    "scrolled": false
   },
   "outputs": [
    {
     "name": "stdout",
     "output_type": "stream",
     "text": [
      "Epoch 1/50\n",
      "1/1 [==============================] - 2s 2s/step - loss: 4.3994 - val_loss: 3.1143\n",
      "Epoch 2/50\n",
      "1/1 [==============================] - 0s 24ms/step - loss: 4.2444 - val_loss: 3.0008\n",
      "Epoch 3/50\n",
      "1/1 [==============================] - 0s 25ms/step - loss: 4.1159 - val_loss: 2.8993\n",
      "Epoch 4/50\n",
      "1/1 [==============================] - 0s 25ms/step - loss: 4.0094 - val_loss: 2.8039\n",
      "Epoch 5/50\n",
      "1/1 [==============================] - 0s 23ms/step - loss: 3.9066 - val_loss: 2.7049\n",
      "Epoch 6/50\n",
      "1/1 [==============================] - 0s 26ms/step - loss: 3.8023 - val_loss: 2.6020\n",
      "Epoch 7/50\n",
      "1/1 [==============================] - 0s 23ms/step - loss: 3.6928 - val_loss: 2.4934\n",
      "Epoch 8/50\n",
      "1/1 [==============================] - 0s 25ms/step - loss: 3.5761 - val_loss: 2.3769\n",
      "Epoch 9/50\n",
      "1/1 [==============================] - 0s 22ms/step - loss: 3.4516 - val_loss: 2.2511\n",
      "Epoch 10/50\n",
      "1/1 [==============================] - 0s 23ms/step - loss: 3.3198 - val_loss: 2.1167\n",
      "Epoch 11/50\n",
      "1/1 [==============================] - 0s 22ms/step - loss: 3.1823 - val_loss: 1.9727\n",
      "Epoch 12/50\n",
      "1/1 [==============================] - 0s 23ms/step - loss: 3.0350 - val_loss: 1.8188\n",
      "Epoch 13/50\n",
      "1/1 [==============================] - 0s 23ms/step - loss: 2.8774 - val_loss: 1.6560\n",
      "Epoch 14/50\n",
      "1/1 [==============================] - 0s 22ms/step - loss: 2.7099 - val_loss: 1.4860\n",
      "Epoch 15/50\n",
      "1/1 [==============================] - 0s 22ms/step - loss: 2.5330 - val_loss: 1.3117\n",
      "Epoch 16/50\n",
      "1/1 [==============================] - 0s 24ms/step - loss: 2.3505 - val_loss: 1.1379\n",
      "Epoch 17/50\n",
      "1/1 [==============================] - 0s 25ms/step - loss: 2.1663 - val_loss: 0.9729\n",
      "Epoch 18/50\n",
      "1/1 [==============================] - 0s 22ms/step - loss: 1.9855 - val_loss: 0.8262\n",
      "Epoch 19/50\n",
      "1/1 [==============================] - 0s 27ms/step - loss: 1.8139 - val_loss: 0.7085\n",
      "Epoch 20/50\n",
      "1/1 [==============================] - 0s 23ms/step - loss: 1.6544 - val_loss: 0.6288\n",
      "Epoch 21/50\n",
      "1/1 [==============================] - 0s 19ms/step - loss: 1.5068 - val_loss: 0.5984\n",
      "Epoch 22/50\n",
      "1/1 [==============================] - 0s 22ms/step - loss: 1.3717 - val_loss: 0.6391\n",
      "Epoch 23/50\n",
      "1/1 [==============================] - 0s 26ms/step - loss: 1.2495 - val_loss: 0.7531\n",
      "Epoch 24/50\n",
      "1/1 [==============================] - 0s 23ms/step - loss: 1.1468 - val_loss: 0.9547\n",
      "Epoch 25/50\n",
      "1/1 [==============================] - 0s 25ms/step - loss: 1.0717 - val_loss: 1.2503\n",
      "Epoch 26/50\n",
      "1/1 [==============================] - 0s 23ms/step - loss: 1.0577 - val_loss: 1.5749\n",
      "Epoch 27/50\n",
      "1/1 [==============================] - 0s 23ms/step - loss: 1.1161 - val_loss: 1.7980\n",
      "Epoch 28/50\n",
      "1/1 [==============================] - 0s 23ms/step - loss: 1.1845 - val_loss: 1.8642\n",
      "Epoch 29/50\n",
      "1/1 [==============================] - 0s 24ms/step - loss: 1.2049 - val_loss: 1.7954\n",
      "Epoch 30/50\n",
      "1/1 [==============================] - 0s 22ms/step - loss: 1.1720 - val_loss: 1.6389\n",
      "Epoch 31/50\n",
      "1/1 [==============================] - 0s 24ms/step - loss: 1.1091 - val_loss: 1.4403\n",
      "Epoch 32/50\n",
      "1/1 [==============================] - 0s 25ms/step - loss: 1.0429 - val_loss: 1.2366\n",
      "Epoch 33/50\n",
      "1/1 [==============================] - 0s 22ms/step - loss: 0.9941 - val_loss: 1.0548\n",
      "Epoch 34/50\n",
      "1/1 [==============================] - 0s 30ms/step - loss: 0.9645 - val_loss: 0.9094\n",
      "Epoch 35/50\n",
      "1/1 [==============================] - 0s 25ms/step - loss: 0.9518 - val_loss: 0.7936\n",
      "Epoch 36/50\n",
      "1/1 [==============================] - 0s 31ms/step - loss: 0.9489 - val_loss: 0.7074\n",
      "Epoch 37/50\n",
      "1/1 [==============================] - 0s 21ms/step - loss: 0.9561 - val_loss: 0.6480\n",
      "Epoch 38/50\n",
      "1/1 [==============================] - 0s 24ms/step - loss: 0.9647 - val_loss: 0.6099\n",
      "Epoch 39/50\n",
      "1/1 [==============================] - 0s 21ms/step - loss: 0.9678 - val_loss: 0.5876\n",
      "Epoch 40/50\n",
      "1/1 [==============================] - 0s 22ms/step - loss: 0.9658 - val_loss: 0.5793\n",
      "Epoch 41/50\n",
      "1/1 [==============================] - 0s 24ms/step - loss: 0.9593 - val_loss: 0.5830\n",
      "Epoch 42/50\n",
      "1/1 [==============================] - 0s 25ms/step - loss: 0.9494 - val_loss: 0.5975\n",
      "Epoch 43/50\n",
      "1/1 [==============================] - 0s 22ms/step - loss: 0.9372 - val_loss: 0.6222\n",
      "Epoch 44/50\n",
      "1/1 [==============================] - 0s 23ms/step - loss: 0.9226 - val_loss: 0.6591\n",
      "Epoch 45/50\n",
      "1/1 [==============================] - 0s 26ms/step - loss: 0.9086 - val_loss: 0.7038\n",
      "Epoch 46/50\n",
      "1/1 [==============================] - 0s 22ms/step - loss: 0.8940 - val_loss: 0.7560\n",
      "Epoch 47/50\n",
      "1/1 [==============================] - 0s 23ms/step - loss: 0.8794 - val_loss: 0.8138\n",
      "Epoch 48/50\n",
      "1/1 [==============================] - 0s 23ms/step - loss: 0.8666 - val_loss: 0.8725\n",
      "Epoch 49/50\n",
      "1/1 [==============================] - 0s 21ms/step - loss: 0.8574 - val_loss: 0.9297\n",
      "Epoch 50/50\n",
      "1/1 [==============================] - 0s 25ms/step - loss: 0.8493 - val_loss: 0.9817\n",
      "1/1 [==============================] - 0s 12ms/step - loss: 1.6943\n",
      "Test Loss: 1.6943422555923462\n"
     ]
    },
    {
     "data": {
      "image/png": "[encoded data removed]",
      "text/plain": [
       "<Figure size 1000x600 with 1 Axes>"
      ]
     },
     "metadata": {},
     "output_type": "display_data"
    }
   ],
   "source": [
    "df['arrival_time'] = pd.to_datetime(df['arrival_time']).apply(lambda x: x.timestamp()) \n",
    "\n",
    "# Define your sequence length (number of time steps per sequence)\n",
    "sequence_length = 10\n",
    "\n",
    "# Select relevant features (including 'arrival_time')\n",
    "selected_features = ['arrival_time', 'stop_lat', 'stop_lon', 'speed_kmh', 'segment_max_speed_kmh', 'runtime_sec']\n",
    "\n",
    "# Normalize the selected features\n",
    "scaler = StandardScaler()\n",
    "df[selected_features[1:]] = scaler.fit_transform(df[selected_features[1:]])\n",
    "\n",
    "# Create sequences of data\n",
    "def create_sequences(df, sequence_length):\n",
    "    sequences = []\n",
    "    for i in range(len(df) - sequence_length + 1):\n",
    "        sequence = df.iloc[i:i + sequence_length]\n",
    "        sequences.append(sequence.values)\n",
    "    return np.array(sequences)\n",
    "\n",
    "# Create sequences for training\n",
    "sequences = create_sequences(df[selected_features], sequence_length)\n",
    "\n",
    "# Define target variable\n",
    "target = df['congestion_level'].values[sequence_length - 1:]\n",
    "\n",
    "# Split data into training and testing sets\n",
    "X_train, X_test, y_train, y_test = train_test_split(sequences, target, test_size=0.2, random_state=42)\n",
    "\n",
    "# Build the LSTM model\n",
    "model = keras.Sequential([\n",
    "    keras.layers.LSTM(64, input_shape=(sequence_length, len(selected_features)), return_sequences=True),\n",
    "    keras.layers.LSTM(64),\n",
    "    keras.layers.Dense(32, activation='relu'),\n",
    "    keras.layers.Dense(1)  # Output layer for regression\n",
    "])\n",
    "\n",
    "model.compile(optimizer='adam', loss='mean_squared_error')\n",
    "\n",
    "# Train the model\n",
    "history = model.fit(X_train, y_train, epochs=50, batch_size=32, validation_split=0.2)\n",
    "\n",
    "# Evaluate the model\n",
    "test_loss = model.evaluate(X_test, y_test)\n",
    "print(f\"Test Loss: {test_loss}\")\n",
    "\n",
    "# Make predictions\n",
    "predictions = model.predict(X_test)\n",
    "\n",
    "plt.figure(figsize=(10, 6))\n",
    "plt.plot(history.history['loss'], label='Training Loss')\n",
    "plt.plot(history.history['val_loss'], label='Validation Loss')\n",
    "plt.xlabel('Epoch')\n",
    "plt.ylabel('Loss')\n",
    "plt.legend()\n",
    "plt.show()"
   ]
  },
  {
   "cell_type": "code",
   "execution_count": null,
   "id": "4f0af320",
   "metadata": {},
   "outputs": [],
   "source": []
  }
 ],
 "metadata": {
  "kernelspec": {
   "display_name": "Python 3 (ipykernel)",
   "language": "python",
   "name": "python3"
  },
  "language_info": {
   "codemirror_mode": {
    "name": "ipython",
    "version": 3
   },
   "file_extension": ".py",
   "mimetype": "text/x-python",
   "name": "python",
   "nbconvert_exporter": "python",
   "pygments_lexer": "ipython3",
   "version": "3.9.18"
  }
 },
 "nbformat": 4,
 "nbformat_minor": 5
}
